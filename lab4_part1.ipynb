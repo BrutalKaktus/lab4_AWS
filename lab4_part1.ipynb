{
 "cells": [
  {
   "cell_type": "code",
   "execution_count": 7,
   "outputs": [
    {
     "name": "stdout",
     "output_type": "stream",
     "text": [
      "Bucket with this name already exist!\n"
     ]
    }
   ],
   "source": [
    "import boto3\n",
    "from botocore.client import ClientError\n",
    "\n",
    "def check_if_bucket_exist(bucket_name, region):\n",
    "    s3 = boto3.resource(\"s3\", region_name=region)\n",
    "    try:\n",
    "        s3.meta.client.head_bucket(Bucket=bucket_name)\n",
    "        return True\n",
    "    except ClientError:\n",
    "        return False\n",
    "\n",
    "def create_s3_bucket(bucket_name, region):\n",
    "    if check_if_bucket_exist(bucket_name, region):\n",
    "        print(\"Bucket with this name already exist!\")\n",
    "        return\n",
    "\n",
    "    s3 = boto3.client('s3', region_name=region)\n",
    "    bucket_configuration = {'LocationConstraint' : region }\n",
    "    response = s3.create_bucket(\n",
    "        Bucket=bucket_name,\n",
    "        CreateBucketConfiguration=bucket_configuration\n",
    "    )\n",
    "\n",
    "    print(response)\n",
    "\n",
    "create_s3_bucket(\"ludens-test-bucket\",\"us-east-2\")\n"
   ],
   "metadata": {
    "collapsed": false
   }
  },
  {
   "cell_type": "code",
   "execution_count": 9,
   "outputs": [
    {
     "name": "stdout",
     "output_type": "stream",
     "text": [
      "{'ResponseMetadata': {'RequestId': 'MHSEB4XP1CASEWYF', 'HostId': 'TVt95jPfMyBxiKHMAet+qZDSefDDnQ0flZGi+W5mUTAE9bf/VfRVt8uvALgw1Dw5GVVuwrd9Qww=', 'HTTPStatusCode': 204, 'HTTPHeaders': {'x-amz-id-2': 'TVt95jPfMyBxiKHMAet+qZDSefDDnQ0flZGi+W5mUTAE9bf/VfRVt8uvALgw1Dw5GVVuwrd9Qww=', 'x-amz-request-id': 'MHSEB4XP1CASEWYF', 'date': 'Fri, 18 Nov 2022 10:14:43 GMT', 'server': 'AmazonS3'}, 'RetryAttempts': 0}}\n"
     ]
    }
   ],
   "source": [
    "import boto3\n",
    "from botocore.client import ClientError\n",
    "\n",
    "def check_if_bucket_exist(bucket_name, region=None):\n",
    "    s3 = boto3.resource(\"s3\", region_name=region)\n",
    "    try:\n",
    "        s3.meta.client.head_bucket(Bucket=bucket_name)\n",
    "        return True\n",
    "    except ClientError:\n",
    "        return False\n",
    "\n",
    "def destroy_bucket(bucket_name, region):\n",
    "    if not check_if_bucket_exist(bucket_name,region):\n",
    "        print(\"Bucket with this name does not exist!\")\n",
    "        return\n",
    "    s3_client = boto3.client('s3', region_name=region)\n",
    "    response = s3_client.delete_bucket(Bucket=bucket_name)\n",
    "    print(response)\n",
    "\n",
    "destroy_bucket(\"ludens-test-bucket\",\"us-east-2\")"
   ],
   "metadata": {
    "collapsed": false
   }
  },
  {
   "cell_type": "code",
   "execution_count": null,
   "outputs": [],
   "source": [],
   "metadata": {
    "collapsed": false
   }
  }
 ],
 "metadata": {
  "kernelspec": {
   "display_name": "Python 3",
   "language": "python",
   "name": "python3"
  },
  "language_info": {
   "codemirror_mode": {
    "name": "ipython",
    "version": 2
   },
   "file_extension": ".py",
   "mimetype": "text/x-python",
   "name": "python",
   "nbconvert_exporter": "python",
   "pygments_lexer": "ipython2",
   "version": "2.7.6"
  }
 },
 "nbformat": 4,
 "nbformat_minor": 0
}
