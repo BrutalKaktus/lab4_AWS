{
 "cells": [
  {
   "cell_type": "code",
   "execution_count": 1,
   "metadata": {
    "collapsed": true
   },
   "outputs": [
    {
     "name": "stdout",
     "output_type": "stream",
     "text": [
      "i-05a9e8e2d4e4c60d9\n"
     ]
    }
   ],
   "source": [
    "import boto3\n",
    "\n",
    "USERDATA_SCRIPT = '''#!/bin/bash\n",
    "cd /home/ubuntu/\n",
    "git clone https://github.com/BrutalKaktus/lab4_AWS \"./cloned-dist/\"\n",
    "cd cloned-dist\n",
    "sudo apt update\n",
    "sudo apt install python3-pip --assume-yes\n",
    "sudo apt install jupyter-notebook --assume-yes\n",
    "pip3 install -r requirements.txt\n",
    "pip3 install jupyter-notebook\n",
    "pip3 install pycairo'''\n",
    "\n",
    "def create_instance():\n",
    "    ec2_client = boto3.client(\"ec2\", region_name=\"us-east-1\")\n",
    "    instances = ec2_client.run_instances(\n",
    "        ImageId=\"ami-08c40ec9ead489470\",\n",
    "        MinCount=1,\n",
    "        MaxCount=1,\n",
    "        SecurityGroupIds=[\n",
    "            \"sg-0a0c1bde183935097\"\n",
    "        ],\n",
    "        Monitoring={\n",
    "            'Enabled': False\n",
    "            },\n",
    "        InstanceType=\"t2.micro\",\n",
    "        KeyName=\"ec2-key-pair\",\n",
    "        UserData=USERDATA_SCRIPT\n",
    "    )\n",
    "    print(instances[\"Instances\"][0][\"InstanceId\"])\n",
    "\n",
    "create_instance()"
   ]
  },
  {
   "cell_type": "code",
   "execution_count": null,
   "outputs": [],
   "source": [],
   "metadata": {
    "collapsed": false
   }
  }
 ],
 "metadata": {
  "kernelspec": {
   "display_name": "Python 3",
   "language": "python",
   "name": "python3"
  },
  "language_info": {
   "codemirror_mode": {
    "name": "ipython",
    "version": 2
   },
   "file_extension": ".py",
   "mimetype": "text/x-python",
   "name": "python",
   "nbconvert_exporter": "python",
   "pygments_lexer": "ipython2",
   "version": "2.7.6"
  }
 },
 "nbformat": 4,
 "nbformat_minor": 0
}
